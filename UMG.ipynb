{
 "cells": [
  {
   "cell_type": "markdown",
   "metadata": {},
   "source": [
    "Ejercicio En Clase"
   ]
  },
  {
   "cell_type": "code",
   "execution_count": 29,
   "metadata": {},
   "outputs": [
    {
     "name": "stdout",
     "output_type": "stream",
     "text": [
      "Hola a todos\n"
     ]
    }
   ],
   "source": [
    "### Ejercicio en clase###\n",
    "\n",
    "a = \"Hola a todos\"\n",
    "print(a)"
   ]
  },
  {
   "cell_type": "code",
   "execution_count": 30,
   "metadata": {},
   "outputs": [
    {
     "name": "stdout",
     "output_type": "stream",
     "text": [
      "Hola\n",
      "Como estan\n"
     ]
    }
   ],
   "source": [
    "a = \"\"\"Hola\n",
    "Como estan\"\"\"\n",
    "print(a)"
   ]
  },
  {
   "cell_type": "markdown",
   "metadata": {},
   "source": [
    "Variables"
   ]
  },
  {
   "cell_type": "code",
   "execution_count": 32,
   "metadata": {},
   "outputs": [],
   "source": [
    "numero=4\n",
    "mistring= \"Hola\" #Esto es un comentario\n",
    "miBool=True"
   ]
  },
  {
   "cell_type": "code",
   "execution_count": 33,
   "metadata": {},
   "outputs": [
    {
     "name": "stdout",
     "output_type": "stream",
     "text": [
      "Hola a todos, mi edad es: 25\n"
     ]
    }
   ],
   "source": [
    "edad=25\n",
    "print(\"Hola a todos, mi edad es:\", edad)"
   ]
  },
  {
   "cell_type": "code",
   "execution_count": 34,
   "metadata": {},
   "outputs": [
    {
     "name": "stdout",
     "output_type": "stream",
     "text": [
      "Hola a todos mi nombre es (nombre), mi edad es: (edad)\n"
     ]
    }
   ],
   "source": [
    "nombre=\"Cesar\"\n",
    "print(\"Hola a todos mi nombre es (nombre), mi edad es: (edad)\")"
   ]
  },
  {
   "cell_type": "code",
   "execution_count": 35,
   "metadata": {},
   "outputs": [
    {
     "name": "stdout",
     "output_type": "stream",
     "text": [
      "SELECT * FROM empleado\n",
      "             WHERE salario >= 2500 AND estado = 'Fiananzas'\n"
     ]
    }
   ],
   "source": [
    "salario = 2500\n",
    "dept = \"Fiananzas\"\n",
    "miQuery = \"\"\"SELECT * FROM empleado\n",
    "             WHERE salario >= {} AND estado = '{}'\"\"\".format(salario, dept)\n",
    "\n",
    "print(miQuery)\n"
   ]
  },
  {
   "cell_type": "code",
   "execution_count": 1,
   "metadata": {},
   "outputs": [],
   "source": [
    "nombre = input(\"Ingrese su nombre: \")\n",
    "print(f\"Hola, {nombre}, esto es Python\")"
   ]
  },
  {
   "cell_type": "markdown",
   "metadata": {},
   "source": [
    "String"
   ]
  },
  {
   "cell_type": "code",
   "execution_count": null,
   "metadata": {},
   "outputs": [],
   "source": [
    "a =\"Cesar Rodriguez\"\n",
    "a[0:5]\n",
    "len(a)"
   ]
  },
  {
   "cell_type": "markdown",
   "metadata": {},
   "source": [
    "Control de Fujo"
   ]
  },
  {
   "cell_type": "code",
   "execution_count": null,
   "metadata": {},
   "outputs": [],
   "source": [
    "43==34\n",
    "43==43"
   ]
  },
  {
   "cell_type": "code",
   "execution_count": 9,
   "metadata": {},
   "outputs": [
    {
     "name": "stdout",
     "output_type": "stream",
     "text": [
      "El numero no es cero\n"
     ]
    }
   ],
   "source": [
    "numero= int (input(\"Ingrese un numero:\"))\n",
    "if(numero!=0):\n",
    "    print(\"El numero no es cero\")\n",
    "else:\n",
    "    print(\"El numero es cero\")"
   ]
  },
  {
   "cell_type": "code",
   "execution_count": 11,
   "metadata": {},
   "outputs": [
    {
     "name": "stdout",
     "output_type": "stream",
     "text": [
      "El dia es viernes\n"
     ]
    }
   ],
   "source": [
    "dia = int(input(\"Ingrese un numero de dia:\"))\n",
    "\n",
    "if dia >= 1 and dia <= 7:\n",
    "    if dia == 1:\n",
    "        print(\"El dia es lunes\")\n",
    "    elif dia == 2:\n",
    "        print(\"El dia es martes\")\n",
    "    elif dia == 3:\n",
    "        print(\"El dia es miercoles\")\n",
    "    elif dia == 4:\n",
    "        print(\"El dia es jueves\")\n",
    "    elif dia == 5:\n",
    "        print(\"El dia es viernes\")\n",
    "    elif dia == 6:\n",
    "        print(\"El dia es sabado\")\n",
    "    elif dia == 7:\n",
    "        print(\"El dia es domingo\")\n",
    "else:\n",
    "    print(\"El dia es incorrecto\")\n"
   ]
  },
  {
   "cell_type": "markdown",
   "metadata": {},
   "source": [
    "LIstas"
   ]
  },
  {
   "cell_type": "code",
   "execution_count": 1,
   "metadata": {},
   "outputs": [],
   "source": [
    "lista=[10,20,30,40,50,60]\n",
    "#1 \n",
    "#2"
   ]
  },
  {
   "cell_type": "code",
   "execution_count": 2,
   "metadata": {},
   "outputs": [
    {
     "data": {
      "text/plain": [
       "6"
      ]
     },
     "execution_count": 2,
     "metadata": {},
     "output_type": "execute_result"
    }
   ],
   "source": [
    "lista[4]\n",
    "lista[4:]\n",
    "len(lista)"
   ]
  },
  {
   "cell_type": "code",
   "execution_count": 3,
   "metadata": {},
   "outputs": [],
   "source": [
    "lista.append('Data')"
   ]
  },
  {
   "cell_type": "code",
   "execution_count": 4,
   "metadata": {},
   "outputs": [],
   "source": [
    "lista.insert(3, 'UMG')"
   ]
  },
  {
   "cell_type": "code",
   "execution_count": 5,
   "metadata": {},
   "outputs": [
    {
     "data": {
      "text/plain": [
       "[10, 20, 30, 'UMG', 40, 50, 60, 'Data']"
      ]
     },
     "execution_count": 5,
     "metadata": {},
     "output_type": "execute_result"
    }
   ],
   "source": [
    "lista"
   ]
  },
  {
   "cell_type": "markdown",
   "metadata": {},
   "source": [
    "Eliminar elementos de una lista"
   ]
  },
  {
   "cell_type": "code",
   "execution_count": 6,
   "metadata": {},
   "outputs": [],
   "source": [
    "del lista [3] #Eliminar por posición"
   ]
  },
  {
   "cell_type": "code",
   "execution_count": 7,
   "metadata": {},
   "outputs": [],
   "source": [
    "lista.remove('Data') #Eliminar por valor"
   ]
  },
  {
   "cell_type": "code",
   "execution_count": 12,
   "metadata": {},
   "outputs": [
    {
     "name": "stdout",
     "output_type": "stream",
     "text": [
      "Horas: 0 - Minutos : 0 - Segundos : 30\n"
     ]
    }
   ],
   "source": [
    "Segundo= int(input(\"Ingrese los segundos:\"))\n",
    "\n",
    "Horas= Segundo // (60*60)\n",
    "Segundo= Segundo % (60*60)\n",
    "Minutos= Segundo // (60)\n",
    "Segundo= Segundo % (60)\n",
    "\n",
    "print('Horas: {} - Minutos : {} - Segundos : {}' .format(Horas,Minutos,Segundo))"
   ]
  },
  {
   "cell_type": "code",
   "execution_count": 14,
   "metadata": {},
   "outputs": [
    {
     "name": "stdout",
     "output_type": "stream",
     "text": [
      "Tines 1986 años 0 meses y -1981 dias\n"
     ]
    }
   ],
   "source": [
    "from datetime import datetime\n",
    "\n",
    "dia= int(input(\"Introduce el dia actual:\"))\n",
    "mes= int(input(\"Introduce el mes actual:\"))\n",
    "año= int(input(\"Introduce el año actual:\"))\n",
    "\n",
    "dia_aniversario= int(input(\"Introduce el dia de tu nacimiento\"))\n",
    "mes_aniversario= int(input(\"Introduce el mes de tu nacimiento\"))\n",
    "año_aniversario= int(input(\"Introduce el año de tu nacimiento\"))\n",
    "\n",
    "resultado_dia= dia - dia_aniversario\n",
    "resultado_mes= mes - mes_aniversario\n",
    "resultado_año= año - año_aniversario\n",
    "\n",
    "print(\"Tines\", resultado_año, \"años\", resultado_mes, \"meses\", \"y\", resultado_dia, \"dias\")\n",
    "\n"
   ]
  },
  {
   "cell_type": "markdown",
   "metadata": {},
   "source": [
    "Con el ejercio Python exploramos conceptos claves como variables para almacenar datos, strings para manipular texto, control de flujo para tomar decisiones y repetir acciones, y listas para almacenar colecciones de elementos. Además, se aprendió a eliminar elementos de una lista utilizando métodos específicos como remove() y la declaración del. Estos fundamentos son cruciales para el desarrollo de programas efectivos y versátiles en Python.\n",
    "\n",
    "Javier Fernando Camey \n",
    "\n",
    "\n",
    "Python, Anaconda y Visual Studio Code son herramientas poderosas que se complementan perfectamente para el desarrollo de software. Python, un lenguaje de programación versátil y fácil de aprender, es la columna vertebral de este conjunto. Anaconda, por otro lado, proporciona un entorno de desarrollo que incluye no solo Python, sino también una amplia gama de bibliotecas y herramientas populares para análisis de datos y ciencia computacional. Visual Studio Code, un editor de código liviano pero potente, ofrece características avanzadas como resaltado de sintaxis, depuración y control de versiones, lo que lo convierte en una opción excelente para escribir código Python de manera eficiente.\n",
    "\n",
    "José Humberto Chiquitá\n",
    "\n",
    "Las listas en Python son una herramienta esencial para trabajar con conjuntos de datos, y su versatilidad, capacidad para manipular elementos y la amplia gama de operaciones y métodos disponibles las convierten en una opción poderosa para desarrolladores, además proporciona una variedad de operaciones y métodos integrados, podemos realizar operaciones como la concatenación, la repetición, la búsqueda de elementos y la modificación de la lista.\n",
    "\n",
    "Mario José Guerra \n",
    "\n",
    "Suena como un enfoque emocionante para desarrollar proyectos de alta gama. Anaconda es una excelente opción para gestionar entornos de desarrollo de Python y paquetes de datos, y su capacidad para desplegar en la nube puede ser muy útil para escalar proyectos. Visual Studio Code, por otro lado, es conocido por su facilidad de uso y su integración con una amplia gama de extensiones y herramientas, lo que lo convierte en una opción sólida para el desarrollo en varios lenguajes y tecnologías.\n",
    "\n",
    "Marco Polo Ventura\n",
    "\n",
    "Jupyter es una herramienta poderosa para el desarrollo y análisis de datos ya que permite crear y compartir documentos interactivos que combinan código, visualizaciones y texto explicativo, mientras que Anaconda proporciona un entorno de Python robusto con una amplia gama de bibliotecas preinstaladas esto ofrece un entorno de desarrollo integrado y en conjunto forman una herramienta versátil para explorar datos, prototipar modelos y crear informes.\n",
    "\n",
    "Mavelin Estefani Ramos\n",
    "\n",
    "\n",
    "\n"
   ]
  }
 ],
 "metadata": {
  "kernelspec": {
   "display_name": "CursoUMG",
   "language": "python",
   "name": "python3"
  },
  "language_info": {
   "codemirror_mode": {
    "name": "ipython",
    "version": 3
   },
   "file_extension": ".py",
   "mimetype": "text/x-python",
   "name": "python",
   "nbconvert_exporter": "python",
   "pygments_lexer": "ipython3",
   "version": "3.8.18"
  }
 },
 "nbformat": 4,
 "nbformat_minor": 2
}
